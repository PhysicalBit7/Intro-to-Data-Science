{
 "cells": [
  {
   "cell_type": "markdown",
   "metadata": {},
   "source": [
    "## Food Survey Data Quality Analysis\n",
    "- **Author: Tanner Patrom**\n",
    "- **Class: Fundamentals of Data Science**\n",
    "----"
   ]
  },
  {
   "cell_type": "code",
   "execution_count": 817,
   "metadata": {},
   "outputs": [],
   "source": [
    "#Import the necessary libraries\n",
    "import pyarrow\n",
    "import pandas as pd\n",
    "import seaborn as sb\n",
    "from matplotlib import pyplot as plt\n",
    "\n",
    "\n"
   ]
  },
  {
   "cell_type": "code",
   "execution_count": 818,
   "metadata": {},
   "outputs": [],
   "source": [
    "# Load data\n",
    "food_survey = pd.read_csv(\"data-quality-assessment_data/food_survey.csv\")"
   ]
  },
  {
   "cell_type": "markdown",
   "metadata": {},
   "source": [
    "### Identify and fix data quality issues in the dataset\n",
    "Opting to use ; as a delimeter because of the commas in strings. I also chose to use the sentinal NaN for everything, even no responses in string columns"
   ]
  },
  {
   "cell_type": "markdown",
   "metadata": {},
   "source": [
    "1. There is no consistent sentinal for the GPA column. We can convert all to NaN"
   ]
  },
  {
   "cell_type": "code",
   "execution_count": 819,
   "metadata": {},
   "outputs": [],
   "source": [
    "gpa = food_survey['GPA']\n",
    "result = pd.to_numeric(gpa, errors='coerce')\n",
    "data = {'GPA': result}"
   ]
  },
  {
   "cell_type": "markdown",
   "metadata": {},
   "source": [
    "2. The following columns look find and the data is consistent. I feel like it needs to be numeric so changing that accordingly"
   ]
  },
  {
   "cell_type": "code",
   "execution_count": 820,
   "metadata": {},
   "outputs": [],
   "source": [
    "gender = food_survey['Gender']\n",
    "data['Gender'] = pd.to_numeric(gender, errors='coerce')\n"
   ]
  },
  {
   "cell_type": "code",
   "execution_count": 821,
   "metadata": {},
   "outputs": [],
   "source": [
    "breakfast = food_survey['breakfast']\n",
    "data['Breakfast'] = pd.to_numeric(breakfast, errors='coerce').astype('Int64', errors='ignore')"
   ]
  },
  {
   "cell_type": "code",
   "execution_count": 822,
   "metadata": {},
   "outputs": [],
   "source": [
    "calories_chicken = food_survey['calories_chicken']\n",
    "data['Calories_chicken'] = pd.to_numeric(calories_chicken, errors='coerce').astype('Int64', errors='ignore')"
   ]
  },
  {
   "cell_type": "code",
   "execution_count": 823,
   "metadata": {},
   "outputs": [],
   "source": [
    "calories_day = food_survey['calories_day']\n",
    "data['Calories_day'] = pd.to_numeric(calories_day, errors='coerce').astype('Int64', errors='ignore')\n"
   ]
  },
  {
   "cell_type": "code",
   "execution_count": 824,
   "metadata": {},
   "outputs": [],
   "source": [
    "calories_scone = food_survey['calories_scone']\n",
    "data['Calories_scone'] = pd.to_numeric(calories_scone, errors='coerce').astype('Int64', errors='ignore')"
   ]
  },
  {
   "cell_type": "code",
   "execution_count": 825,
   "metadata": {},
   "outputs": [],
   "source": [
    "coffee = food_survey['coffee']\n",
    "data['Coffee'] = pd.to_numeric(coffee, errors='coerce').astype('Int64', errors='ignore')"
   ]
  },
  {
   "cell_type": "markdown",
   "metadata": {},
   "source": [
    "3. The Comfort_food column has issues such as the delimeter being different. I chose to drop the record displaying 'none'. I also replaced periods with commas, took care of misplaced carriage returns, and forward slashes"
   ]
  },
  {
   "cell_type": "code",
   "execution_count": 826,
   "metadata": {},
   "outputs": [],
   "source": [
    "#problem_record = food_survey.iloc[39].str.replace('\\r', ',')\n",
    "comfort_food = food_survey['comfort_food']\n",
    "comfort_food = comfort_food.str.strip().str.lower().str.replace('.', ',').str.replace(' /', ',').str.replace('\\r', ',')\n",
    "data['Comfort_food'] = comfort_food"
   ]
  },
  {
   "cell_type": "code",
   "execution_count": 827,
   "metadata": {},
   "outputs": [],
   "source": [
    "comfort_food_reasons = food_survey['comfort_food_reasons']\n",
    "comfort_food_reasons = comfort_food_reasons.str.strip().str.lower().str.replace(' / ', ', ').str.replace('\\r', ',')\n",
    "data['Comfort_food_reasons'] = comfort_food_reasons"
   ]
  },
  {
   "cell_type": "markdown",
   "metadata": {},
   "source": [
    "4. Choosing to drop the comfort_food_reasons_coded column. It is unfinished and a duplication"
   ]
  },
  {
   "cell_type": "markdown",
   "metadata": {},
   "source": [
    "5. Cook column can be added"
   ]
  },
  {
   "cell_type": "code",
   "execution_count": 828,
   "metadata": {},
   "outputs": [],
   "source": [
    "cook = food_survey['cook']\n",
    "data['Cook'] = pd.to_numeric(cook, errors='coerce').astype('Int64', errors='ignore')"
   ]
  },
  {
   "cell_type": "markdown",
   "metadata": {},
   "source": [
    "6. Adding comfort_food_reasons_coded, Cuisine, diet_current, diet_current_coded, drink, and eating columns, accounting for similar scenaries"
   ]
  },
  {
   "cell_type": "code",
   "execution_count": 829,
   "metadata": {},
   "outputs": [],
   "source": [
    "comfort_food_reasons_coded = food_survey['comfort_food_reasons_coded']\n",
    "data['Comfort_food_reasons_coded'] = pd.to_numeric(comfort_food_reasons_coded, errors='coerce').astype('Int64', errors='ignore')\n",
    "\n",
    "cuisine = food_survey['cuisine']\n",
    "data['Cuisine'] = pd.to_numeric(cuisine, errors='coerce').astype('Int64', errors='ignore')\n",
    "\n",
    "diet_current = food_survey['diet_current']\n",
    "diet_current = diet_current.str.strip().str.lower().str.replace('\\r', ',')\n",
    "data['Diet_current'] = diet_current\n",
    "\n",
    "diet_current_coded = food_survey['diet_current_coded']\n",
    "data['Diet_current_coded'] = pd.to_numeric(diet_current_coded, errors='coerce').astype('Int64', errors='ignore')\n",
    "\n",
    "drink = food_survey['drink']\n",
    "data['Drink'] = pd.to_numeric(drink, errors='coerce').astype('Int64', errors='ignore')\n",
    "\n",
    "eating_changes = food_survey['eating_changes']\n",
    "eating_changes = eating_changes.str.strip().str.lower().str.replace('\\r', ',').str.replace('nan', 'none')\n",
    "data['Eating_changes'] = eating_changes"
   ]
  },
  {
   "cell_type": "markdown",
   "metadata": {},
   "source": [
    "7. The following were complete columns with numbers that can just be added to the dataframe"
   ]
  },
  {
   "cell_type": "code",
   "execution_count": 830,
   "metadata": {},
   "outputs": [],
   "source": [
    "data['Eating_changes_coded'] = pd.to_numeric(food_survey['eating_changes_coded'], errors='coerce').astype('Int64', errors='ignore')\n",
    "data['Eating_changes_coded1'] = pd.to_numeric(food_survey['eating_changes_coded1'], errors='coerce').astype('Int64', errors='ignore')\n",
    "data['Eating_out'] = pd.to_numeric(food_survey['eating_out'], errors='coerce').astype('Int64', errors='ignore')\n",
    "data['Employment'] = pd.to_numeric(food_survey['employment'], errors='coerce').astype('Int64', errors='ignore')\n",
    "data['Ethnic_food'] = pd.to_numeric(food_survey['ethnic_food'], errors='coerce').astype('Int64', errors='ignore')\n",
    "data['Exercise'] = pd.to_numeric(food_survey['exercise'], errors='coerce').astype('Int64', errors='ignore')\n",
    "data['Father_education'] = pd.to_numeric(food_survey['father_education'], errors='coerce').astype('Int64', errors='ignore')"
   ]
  },
  {
   "cell_type": "markdown",
   "metadata": {},
   "source": [
    "8. Columns Father_profession and Fav_cuisine are complete and can be added"
   ]
  },
  {
   "cell_type": "code",
   "execution_count": 831,
   "metadata": {},
   "outputs": [],
   "source": [
    "father_profession = food_survey['father_profession']\n",
    "father_profession = father_profession.str.strip().str.lower().str.replace('\\r', ',').str.replace('nan', 'NaN')\n",
    "data['Father_profession'] = father_profession\n",
    "\n",
    "fav_cuisine = food_survey['fav_cuisine']\n",
    "fav_cuisine = fav_cuisine.str.strip().str.lower().str.replace('\\r', ',').str.replace('nan', 'NaN').str.replace('.', '')\n",
    "data['Fav_cuisine'] = fav_cuisine"
   ]
  },
  {
   "cell_type": "markdown",
   "metadata": {},
   "source": [
    "9. Correcting Fav_cuisine_coded and Fav_food"
   ]
  },
  {
   "cell_type": "code",
   "execution_count": 832,
   "metadata": {},
   "outputs": [],
   "source": [
    "data['Fav_cuisine_coded'] = pd.to_numeric(food_survey['fav_cuisine_coded'], errors='coerce').astype('Int64', errors='ignore')\n",
    "data['Fav_food'] = pd.to_numeric(food_survey['fav_food'], errors='coerce').astype('Int64', errors='ignore')"
   ]
  },
  {
   "cell_type": "markdown",
   "metadata": {},
   "source": [
    "10. Food_childhood looks okay"
   ]
  },
  {
   "cell_type": "code",
   "execution_count": 833,
   "metadata": {},
   "outputs": [],
   "source": [
    "food_childhood = food_survey['food_childhood']\n",
    "food_childhood = food_childhood.str.strip().str.lower().str.replace('\\r', ',').str.replace('nan', 'NaN').str.replace('.', '')\n",
    "data['Food_childhood'] = food_childhood"
   ]
  },
  {
   "cell_type": "markdown",
   "metadata": {},
   "source": [
    "11. Columns fries, fruit_day, grade_level, greek_food, healthy_food are all complete and can be added"
   ]
  },
  {
   "cell_type": "code",
   "execution_count": 834,
   "metadata": {},
   "outputs": [],
   "source": [
    "data['Fries'] = pd.to_numeric(food_survey['fries'], errors='coerce').astype('Int64', errors='ignore')\n",
    "data['Fruit_day'] = pd.to_numeric(food_survey['fruit_day'], errors='coerce').astype('Int64', errors='ignore')\n",
    "data['Grade_level'] = pd.to_numeric(food_survey['grade_level'], errors='coerce').astype('Int64', errors='ignore')\n",
    "data['Greek_food'] = pd.to_numeric(food_survey['greek_food'], errors='coerce').astype('Int64', errors='ignore')\n",
    "data['Healthy_feeling'] = pd.to_numeric(food_survey['healthy_feeling'], errors='coerce').astype('Int64', errors='ignore')"
   ]
  },
  {
   "cell_type": "markdown",
   "metadata": {},
   "source": [
    "12. Columns Healty_meals and Ideal_diet look complete. Replacing ins"
   ]
  },
  {
   "cell_type": "code",
   "execution_count": 835,
   "metadata": {},
   "outputs": [],
   "source": [
    "healthy_meal = food_survey['healthy_meal']\n",
    "healthy_meal = healthy_meal.str.strip().str.lower().str.replace('\\r', ',').str.replace('nan', 'NaN').str.replace('.', '')\n",
    "data['Healthy_meal'] = healthy_meal\n",
    "\n",
    "ideal_diet = food_survey['ideal_diet']\n",
    "ideal_diet = ideal_diet.str.strip().str.lower().str.replace('\\r', ',').str.replace('nan', 'NaN').str.replace('.', '')\n",
    "data['Ideal_diet'] = ideal_diet"
   ]
  },
  {
   "cell_type": "markdown",
   "metadata": {},
   "source": [
    "13. The following columns look complete"
   ]
  },
  {
   "cell_type": "code",
   "execution_count": 836,
   "metadata": {},
   "outputs": [],
   "source": [
    "data['Ideal_diet_coded'] = pd.to_numeric(food_survey['ideal_diet_coded'], errors='coerce').astype('Int64', errors='ignore')\n",
    "data['Income'] = pd.to_numeric(food_survey['income'], errors='coerce').astype('Int64', errors='ignore')\n",
    "data['Indian_food'] = pd.to_numeric(food_survey['indian_food'], errors='coerce').astype('Int64', errors='ignore')\n",
    "data['Italian_food'] = pd.to_numeric(food_survey['italian_food'], errors='coerce').astype('Int64', errors='ignore')\n",
    "data['Life_rewarding'] = pd.to_numeric(food_survey['life_rewarding'], errors='coerce').astype('Int64', errors='ignore')\n",
    "data['Marital_status'] = pd.to_numeric(food_survey['marital_status'], errors='coerce').astype('Int64', errors='ignore')"
   ]
  },
  {
   "cell_type": "markdown",
   "metadata": {},
   "source": [
    "14. Adding meals_dinner_friend and taking care of carriage returns"
   ]
  },
  {
   "cell_type": "code",
   "execution_count": 837,
   "metadata": {},
   "outputs": [],
   "source": [
    "meals_dinner_friend = food_survey['meals_dinner_friend']\n",
    "meals_dinner_friend = meals_dinner_friend.str.strip().str.lower().str.replace('\\r', ',').str.replace('nan', 'NaN')\n",
    "data['Meals_dinner_friend'] = meals_dinner_friend"
   ]
  },
  {
   "cell_type": "markdown",
   "metadata": {},
   "source": [
    "15. Mother_education is complete. Changing to represent NaN"
   ]
  },
  {
   "cell_type": "code",
   "execution_count": 838,
   "metadata": {},
   "outputs": [],
   "source": [
    "data['Mother_education'] = pd.to_numeric(food_survey['mother_education'], errors='coerce').astype('Int64', errors='ignore')"
   ]
  },
  {
   "cell_type": "markdown",
   "metadata": {},
   "source": [
    "16. Taking care of mother_profession sentinals"
   ]
  },
  {
   "cell_type": "code",
   "execution_count": 839,
   "metadata": {},
   "outputs": [],
   "source": [
    "mother_profession = food_survey['mother_profession']\n",
    "mother_profession = mother_profession.str.strip().str.lower().str.replace('\\r', ',').str.replace('nan', 'NaN')\n",
    "data['Mother_profession'] = mother_profession"
   ]
  },
  {
   "cell_type": "markdown",
   "metadata": {},
   "source": [
    "17. The following columns all looked correct and complete. Changing to int"
   ]
  },
  {
   "cell_type": "code",
   "execution_count": 840,
   "metadata": {},
   "outputs": [],
   "source": [
    "data['Nutrional_check'] = pd.to_numeric(food_survey['nutritional_check'], errors='coerce').astype('Int64', errors='ignore')\n",
    "data['On_off_campus'] = pd.to_numeric(food_survey['on_off_campus'], errors='coerce').astype('Int64', errors='ignore')\n",
    "data['Parents_cook'] = pd.to_numeric(food_survey['parents_cook'], errors='coerce').astype('Int64', errors='ignore')\n",
    "data['Pay_meal_out'] = pd.to_numeric(food_survey['pay_meal_out'], errors='coerce').astype('Int64', errors='ignore')\n",
    "data['Persian_food'] = pd.to_numeric(food_survey['persian_food'], errors='coerce').astype('Int64', errors='ignore')\n",
    "data['Self_perception_weight'] = pd.to_numeric(food_survey['self_perception_weight'], errors='coerce').astype('Int64', errors='ignore')\n",
    "data['Soup'] = pd.to_numeric(food_survey['soup'], errors='coerce').astype('Int64', errors='ignore')\n",
    "data['Sports'] = pd.to_numeric(food_survey['sports'], errors='coerce').astype('Int64', errors='ignore')\n",
    "data['Thai_food'] = pd.to_numeric(food_survey['thai_food'], errors='coerce').astype('Int64', errors='ignore')\n",
    "data['Tortilla_calories'] = pd.to_numeric(food_survey['tortilla_calories'], errors='coerce').astype('Int64', errors='ignore')\n",
    "data['Turkey_calories'] = pd.to_numeric(food_survey['turkey_calories'], errors='coerce').astype('Int64', errors='ignore')"
   ]
  },
  {
   "cell_type": "markdown",
   "metadata": {},
   "source": [
    "18. Type_sports column needing work changing nan to NaN"
   ]
  },
  {
   "cell_type": "code",
   "execution_count": 841,
   "metadata": {},
   "outputs": [],
   "source": [
    "type_sports = food_survey['type_sports']\n",
    "type_sports = type_sports.str.strip().str.lower().str.replace('\\r', ',').str.replace('nan', 'NaN')\n",
    "data['Type_sports'] = type_sports"
   ]
  },
  {
   "cell_type": "markdown",
   "metadata": {},
   "source": [
    "19. Adding veggies_day, vitamins, and waffle_calories. Changing to int "
   ]
  },
  {
   "cell_type": "code",
   "execution_count": 842,
   "metadata": {},
   "outputs": [],
   "source": [
    "data['Veggies_day'] = pd.to_numeric(food_survey['veggies_day'], errors='coerce').astype('Int64', errors='ignore')\n",
    "data['Vitamins'] = pd.to_numeric(food_survey['vitamins'], errors='coerce').astype('Int64', errors='ignore')\n",
    "data['Waffle_calories'] = pd.to_numeric(food_survey['waffle_calories'], errors='coerce').astype('Int64', errors='ignore')"
   ]
  },
  {
   "cell_type": "markdown",
   "metadata": {},
   "source": [
    "20. The weight column had a few cells with words. Taking those out and converting to int"
   ]
  },
  {
   "cell_type": "code",
   "execution_count": 843,
   "metadata": {},
   "outputs": [],
   "source": [
    "cell3 = food_survey['weight'].iloc[3].split()[2]\n",
    "cell67 = food_survey['weight'].iloc[67].split()[0]\n",
    "data['Weight'] = pd.to_numeric(food_survey['weight'], errors='coerce').astype('Int64', errors='ignore')\n",
    "data['Weight'][3] = int(cell3)\n",
    "data['Weight'][67] = int(cell67)"
   ]
  },
  {
   "cell_type": "markdown",
   "metadata": {},
   "source": [
    "### Write all to file"
   ]
  },
  {
   "cell_type": "code",
   "execution_count": 844,
   "metadata": {},
   "outputs": [],
   "source": [
    "df_data = pd.DataFrame(data)\n",
    "df_data.to_csv('corrected_data.csv', index=False, na_rep='NaN', sep=';')"
   ]
  },
  {
   "cell_type": "markdown",
   "metadata": {},
   "source": [
    "# Mitigation Strategy"
   ]
  },
  {
   "cell_type": "markdown",
   "metadata": {},
   "source": [
    "I think a lot of this could have been avoided by creating boundaries for the users to work within on the front end. A strict method of input would have avoided most of the issues with the csv file, as well as having clear instructions on how a user should answer questions. Determining a consistent sentinal, having a way to handle incorrect/missing data, and having a consistent method of listing multiple answers in questions requiring a string as input(burger, fries, coke vs. burger/fries/coke vs. burger fries coke) would mitigate a lot of work needed to be done cleaning the data."
   ]
  },
  {
   "cell_type": "markdown",
   "metadata": {},
   "source": [
    "# Learned"
   ]
  },
  {
   "cell_type": "markdown",
   "metadata": {},
   "source": [
    "I think I did this very manually. I believe next time I would change how I completed this assignment. Surely I could process the entire dataframe at once or using a library already built"
   ]
  }
 ],
 "metadata": {
  "kernelspec": {
   "display_name": ".venv",
   "language": "python",
   "name": "python3"
  },
  "language_info": {
   "codemirror_mode": {
    "name": "ipython",
    "version": 3
   },
   "file_extension": ".py",
   "mimetype": "text/x-python",
   "name": "python",
   "nbconvert_exporter": "python",
   "pygments_lexer": "ipython3",
   "version": "3.12.1"
  }
 },
 "nbformat": 4,
 "nbformat_minor": 2
}
