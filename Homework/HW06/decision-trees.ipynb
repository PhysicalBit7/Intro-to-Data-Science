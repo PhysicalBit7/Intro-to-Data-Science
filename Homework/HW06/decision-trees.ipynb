{
 "cells": [
  {
   "cell_type": "markdown",
   "metadata": {},
   "source": [
    "# Decision Trees\n",
    "\n",
    "For this notebook, your environment will require the following packages:\n",
    "\n",
    "* pandas\n",
    "* numpy\n",
    "* skikit-learn\n",
    "* ucimlrepo\n",
    "* certifi"
   ]
  },
  {
   "cell_type": "code",
   "execution_count": 1,
   "metadata": {},
   "outputs": [],
   "source": [
    "import pandas as pd\n",
    "import numpy as np\n",
    "from sklearn.model_selection import cross_val_score\n",
    "from sklearn.model_selection import StratifiedKFold\n",
    "from sklearn.tree import DecisionTreeClassifier\n",
    "from ucimlrepo import fetch_ucirepo \n",
    "np.random.seed(42)"
   ]
  },
  {
   "cell_type": "code",
   "execution_count": 2,
   "metadata": {},
   "outputs": [],
   "source": [
    "# fetch dataset\n",
    "glass_identification = fetch_ucirepo(id=42)\n",
    "\n",
    "# data (as pandas dataframes)\n",
    "X = glass_identification.data.features\n",
    "y = glass_identification.data.targets"
   ]
  },
  {
   "cell_type": "markdown",
   "metadata": {},
   "source": [
    "Let's evaluate this one using 5-fold Cross Validation.\n",
    "\n",
    "Scikit-Learn has a function built in to perform very simple k-fold CV evaluations.  We can use it here for exploration.\n",
    "\n",
    "We will look at three models:\n",
    "* `tree_model_1` : This version will grow the trees fully, based on the impurity measure of all nodes (which is GINI index in this case).\n",
    "* `tree_model_2` : This version will try to regularize the tree by choosing not to split if there are a relatively small number of samples reaching a node.  The tuning parameter is `min_samples_split`.\n",
    "* `tree_model_3` : This version will try to regularize the tree by choosing not to split if the impurity decrease by doing a split is very small.  The tuning parameter is `min_impurity_decrease`.\n",
    "\n",
    "To learn more about the Scikit-Learn DecisionTreeClassifier and the tuning parameters, see the documentation here:\n",
    "\n",
    "<https://scikit-learn.org/stable/modules/generated/sklearn.tree.DecisionTreeClassifier.html>"
   ]
  },
  {
   "cell_type": "code",
   "execution_count": 3,
   "metadata": {},
   "outputs": [],
   "source": [
    "strat_5_fold = StratifiedKFold(shuffle=True, random_state=42)\n",
    "# Model 1 is a decision tree classifier that will build complete trees.\n",
    "tree_model_1 = DecisionTreeClassifier()\n",
    "\n",
    "# TODO: Find a value for X in the line below that will perform better than `tree_model_1`:\n",
    "tree_model_2 = DecisionTreeClassifier(min_samples_split=4) # Don't split if there are X or fewer samples in a node.\n",
    "\n",
    "# TODO: Find a value for X in the line below that will perform better than `tree_model_1`:\n",
    "tree_model_3 = DecisionTreeClassifier(min_impurity_decrease= .002) # Don't split if the impurity decrease is less than X."
   ]
  },
  {
   "cell_type": "markdown",
   "metadata": {},
   "source": [
    "Evaluate the first model, which grows the trees fully (but might overfit)."
   ]
  },
  {
   "cell_type": "code",
   "execution_count": 4,
   "metadata": {},
   "outputs": [
    {
     "name": "stdout",
     "output_type": "stream",
     "text": [
      "Tree model #1 balanced accuracy mean: 0.642 stdev: 0.115\n"
     ]
    }
   ],
   "source": [
    "scores = cross_val_score(tree_model_1, X, y, scoring='balanced_accuracy', cv=strat_5_fold)\n",
    "print(f\"Tree model #1 balanced accuracy mean: {scores.mean():0.3f} stdev: {scores.std():0.3f}\")"
   ]
  },
  {
   "cell_type": "markdown",
   "metadata": {},
   "source": [
    "**TODO**: After you finish the TODO sections above to declare the model `tree_model_2` un-comment the lines in the code block below to see how that model performs."
   ]
  },
  {
   "cell_type": "code",
   "execution_count": 5,
   "metadata": {},
   "outputs": [
    {
     "name": "stdout",
     "output_type": "stream",
     "text": [
      "Tree model #2 balanced accuracy mean: 0.677 stdev: 0.115\n"
     ]
    }
   ],
   "source": [
    "scores = cross_val_score(tree_model_2, X, y, scoring='balanced_accuracy', cv=strat_5_fold)\n",
    "print(f\"Tree model #2 balanced accuracy mean: {scores.mean():0.3f} stdev: {scores.std():0.3f}\")"
   ]
  },
  {
   "cell_type": "markdown",
   "metadata": {},
   "source": [
    "**TODO**: After you finish the TODO sections above to declare the model `tree_model_3` un-comment the lines in the code block below to see how that model performs."
   ]
  },
  {
   "cell_type": "code",
   "execution_count": 6,
   "metadata": {},
   "outputs": [
    {
     "name": "stdout",
     "output_type": "stream",
     "text": [
      "Tree model #3 balanced accuracy mean: 0.651 stdev: 0.100\n"
     ]
    }
   ],
   "source": [
    "scores = cross_val_score(tree_model_3, X, y, scoring='balanced_accuracy', cv=strat_5_fold)\n",
    "print(f\"Tree model #3 balanced accuracy mean: {scores.mean():0.3f} stdev: {scores.std():0.3f}\")"
   ]
  },
  {
   "cell_type": "markdown",
   "metadata": {},
   "source": [
    "### Submit\n",
    "\n",
    "Submit the finished notebook, with output saved."
   ]
  }
 ],
 "metadata": {
  "kernelspec": {
   "display_name": ".venv",
   "language": "python",
   "name": "python3"
  },
  "language_info": {
   "codemirror_mode": {
    "name": "ipython",
    "version": 3
   },
   "file_extension": ".py",
   "mimetype": "text/x-python",
   "name": "python",
   "nbconvert_exporter": "python",
   "pygments_lexer": "ipython3",
   "version": "3.12.2"
  }
 },
 "nbformat": 4,
 "nbformat_minor": 2
}
